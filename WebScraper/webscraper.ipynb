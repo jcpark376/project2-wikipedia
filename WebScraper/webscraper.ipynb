{
 "metadata": {
  "language_info": {
   "codemirror_mode": {
    "name": "ipython",
    "version": 3
   },
   "file_extension": ".py",
   "mimetype": "text/x-python",
   "name": "python",
   "nbconvert_exporter": "python",
   "pygments_lexer": "ipython3",
   "version": "3.8.3-final"
  },
  "orig_nbformat": 2,
  "kernelspec": {
   "name": "Python 3.8.3 64-bit ('base': conda)",
   "display_name": "Python 3.8.3 64-bit ('base': conda)",
   "metadata": {
    "interpreter": {
     "hash": "a37621db6f99f75e4d2a47a248a6a71709dd01999a0a2eb01144ce85e79d4af1"
    }
   }
  }
 },
 "nbformat": 4,
 "nbformat_minor": 2,
 "cells": [
  {
   "cell_type": "code",
   "execution_count": 2,
   "metadata": {},
   "outputs": [],
   "source": [
    "from bs4 import BeautifulSoup\n",
    "import requests"
   ]
  },
  {
   "cell_type": "code",
   "execution_count": 4,
   "metadata": {
    "tags": []
   },
   "outputs": [],
   "source": [
    "url = 'https://en.wikipedia.org/wiki/Special:Random' \n",
    "for i in range(300):\n",
    "    temp = requests.get(url)\n",
    "    soup = BeautifulSoup(temp.text)\n",
    "    # extract title from wikipedia article\n",
    "    title_raw = str(soup.find(\"title\"))\n",
    "    title = title_raw[7:-20]\n",
    "    # save article as html with title as name\n",
    "    file = open(\"../wikiarticles/\" + title +\".html\" ,\"w\")\n",
    "    file.write(str(soup))\n",
    "    file.close()"
   ]
  }
 ]
}