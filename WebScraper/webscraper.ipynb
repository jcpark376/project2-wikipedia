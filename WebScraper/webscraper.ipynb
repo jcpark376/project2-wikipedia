{
 "metadata": {
  "language_info": {
   "codemirror_mode": {
    "name": "ipython",
    "version": 3
   },
   "file_extension": ".py",
   "mimetype": "text/x-python",
   "name": "python",
   "nbconvert_exporter": "python",
   "pygments_lexer": "ipython3",
   "version": "3.8.3-final"
  },
  "orig_nbformat": 2,
  "kernelspec": {
   "name": "Python 3.8.3 64-bit ('base': conda)",
   "display_name": "Python 3.8.3 64-bit ('base': conda)",
   "metadata": {
    "interpreter": {
     "hash": "a37621db6f99f75e4d2a47a248a6a71709dd01999a0a2eb01144ce85e79d4af1"
    }
   }
  }
 },
 "nbformat": 4,
 "nbformat_minor": 2,
 "cells": [
  {
   "cell_type": "code",
   "execution_count": 1,
   "metadata": {},
   "outputs": [],
   "source": [
    "from bs4 import BeautifulSoup\n",
    "import requests"
   ]
  },
  {
   "cell_type": "code",
   "execution_count": 1,
   "metadata": {},
   "outputs": [
    {
     "output_type": "error",
     "ename": "SyntaxError",
     "evalue": "invalid syntax (&lt;ipython-input-1-636c4e8854eb&gt;, line 2)",
     "traceback": [
      "\u001b[0;36m  File \u001b[0;32m&quot;&lt;ipython-input-1-636c4e8854eb&gt;&quot;\u001b[0;36m, line \u001b[0;32m2\u001b[0m\n\u001b[0;31m    articles = pd.DataFrame{&#39;article_title&#39;,&#39;url&#39;}\u001b[0m\n\u001b[0m                           ^\u001b[0m\n\u001b[0;31mSyntaxError\u001b[0m\u001b[0;31m:\u001b[0m invalid syntax\n"
     ]
    }
   ],
   "source": [
    "# Initialize dataframe\n",
    "articles = pd.DataFrame({'article_title','url'})"
   ]
  },
  {
   "cell_type": "code",
   "execution_count": 2,
   "metadata": {
    "tags": []
   },
   "outputs": [],
   "source": [
    "url = 'https://en.wikipedia.org/wiki/Special:Random' \n",
    "for i in range(300):\n",
    "    temp = requests.get(url)\n",
    "    soup = BeautifulSoup(temp.text)\n",
    "    # extract title from wikipedia article\n",
    "    title_raw = str(soup.find(\"title\"))\n",
    "    title = title_raw[7:-20]\n",
    "    # save article as html with title as name\n",
    "    file = open(\"../wikiarticles/\" + title +\".html\" ,\"w\")\n",
    "    file.write(str(soup))\n",
    "    file.close()"
   ]
  },
  {
   "cell_type": "code",
   "execution_count": null,
   "metadata": {},
   "outputs": [],
   "source": [
    "# Many html files are saved in folder.\n",
    "# Extract \"Article Name\" from \"Article Name.html\" for a list of index\n",
    "import pandas as pd\n",
    "from os import listdir\n",
    "from os.path import isfile, join\n",
    "file_names = [name[:-5] for name in listdir('../wikiarticles30') if isfile(join('../wikiarticles30', name))]\n",
    "# turn list into df\n",
    "file_names = pd.DataFrame(file_names,columns=['article_name'])"
   ]
  }
 ]
}