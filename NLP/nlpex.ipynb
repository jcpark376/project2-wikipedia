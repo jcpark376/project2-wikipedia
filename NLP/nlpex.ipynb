{
 "metadata": {
  "language_info": {
   "codemirror_mode": {
    "name": "ipython",
    "version": 3
   },
   "file_extension": ".py",
   "mimetype": "text/x-python",
   "name": "python",
   "nbconvert_exporter": "python",
   "pygments_lexer": "ipython3",
   "version": "3.8.3-final"
  },
  "orig_nbformat": 2,
  "kernelspec": {
   "name": "Python 3.8.3 64-bit ('base': conda)",
   "display_name": "Python 3.8.3 64-bit ('base': conda)",
   "metadata": {
    "interpreter": {
     "hash": "a37621db6f99f75e4d2a47a248a6a71709dd01999a0a2eb01144ce85e79d4af1"
    }
   }
  }
 },
 "nbformat": 4,
 "nbformat_minor": 2,
 "cells": [
  {
   "cell_type": "code",
   "execution_count": 18,
   "metadata": {
    "tags": []
   },
   "outputs": [],
   "source": [
    "import pandas as pd\n",
    "from os import listdir\n",
    "from os.path import isfile, join\n",
    "from bs4 import BeautifulSoup\n",
    "import requests\n",
    "import string\n",
    "\n",
    "from collections import defaultdict\n",
    "\n",
    "import nltk\n",
    "from nltk.corpus import stopwords\n",
    "from nltk.tokenize import word_tokenize\n",
    "from nltk.stem import WordNetLemmatizer\n",
    "lemmatizer = WordNetLemmatizer() "
   ]
  },
  {
   "cell_type": "code",
   "execution_count": 19,
   "metadata": {},
   "outputs": [],
   "source": [
    "# Extract \"Article Name\" from all \"Article Name.html\" for a list of article names\n",
    "file_names = [name[:-5] for name in listdir('../wikiarticles') if isfile(join('../wikiarticles', name))]\n",
    "try: file_names.remove(\".DS_\")\n",
    "except: pass\n",
    "wikiarticles_list = file_names"
   ]
  },
  {
   "cell_type": "code",
   "execution_count": 20,
   "metadata": {
    "tags": []
   },
   "outputs": [],
   "source": [
    "def createrow(article):\n",
    "    '''\n",
    "    Finds the html file with the title 'article'\n",
    "    Then tokenizes and cleans up body of article to return bag of words\n",
    "    Input: name of the article\n",
    "    Output: single pandas row with bag of words\n",
    "    '''\n",
    "    filename = \"../wikiarticles/\" + article + \".html\"\n",
    "    html_handle = open(filename)\n",
    "    html_text = html_handle.read()\n",
    "    soup = BeautifulSoup(html_text, 'lxml')\n",
    "\n",
    "    #delete all tables within article (adds noise)\n",
    "    for table in soup.find_all('table', {\"id\":\"mw-content-text\"}):\n",
    "        table.decompose()\n",
    "\n",
    "    #flatten html and extract text from body\n",
    "    body_text = soup.find(\"div\", {\"id\":\"mw-content-text\"}).text \n",
    "    body_lower = body_text.lower()\n",
    "\n",
    "    #tokenize\n",
    "    bag_raw = word_tokenize(body_lower)\n",
    "\n",
    "    # remove english stopwords, punctuation, numbers, and single letters\n",
    "    stop = stopwords.words('english')\n",
    "    bag_alpha = [w for w in bag_raw if w.isalpha()]\n",
    "    bag_no_stop = [w for w in bag_alpha if not w in stop]\n",
    "    bag_short = [w for w in bag_no_stop if len(w) > 2]\n",
    "    \n",
    "    # lemmatize\n",
    "    bag_lem = [lemmatizer.lemmatize(w) for w in bag_short]\n",
    "\n",
    "    # make dict with freq\n",
    "    wordfreq = defaultdict(int)\n",
    "    for word in bag_lem:\n",
    "        wordfreq[word] += 1\n",
    "    freq = pd.DataFrame.from_dict(wordfreq, orient='index')\n",
    "    freq.drop(freq[freq[0] < 3].index, inplace = True) \n",
    "    freq = freq.transpose()\n",
    "    freq.insert(0,'this_article_unique_name', article)\n",
    "\n",
    "    return freq"
   ]
  },
  {
   "cell_type": "code",
   "execution_count": 54,
   "metadata": {},
   "outputs": [],
   "source": [
    "def generate_subdf(start, stop):\n",
    "    '''\n",
    "    The function 'create_row' creates a single df row from an html file with tally of words\n",
    "    We can concat every row to the df before. However, this is computationally very expensive\n",
    "    Thus, dividing up the load.\n",
    "    Generate 4 dataframes separately, then concat.\n",
    "    Inputs: start and stop index of 'wikiarticles_list'\n",
    "    Output: dataframe\n",
    "    '''\n",
    "    wiki_nlp = pd.DataFrame(columns=['this_article_unique_name']) #init empty df\n",
    "\n",
    "    exec_counter = 0\n",
    "    for article in wikiarticles_list[start : stop]:\n",
    "        newrow = createrow(article)\n",
    "        wiki_nlp = pd.concat([newrow, wiki_nlp], sort=False, ignore_index=True)\n",
    "\n",
    "        exec_counter += 1\n",
    "        print(str(exec_counter) + \" generating index \" + str(start) + \" \" + str(stop))\n",
    "        print(wiki_nlp.shape)\n",
    "        \n",
    "    \n",
    "    return wiki_nlp"
   ]
  },
  {
   "cell_type": "code",
   "execution_count": 55,
   "metadata": {
    "tags": [
     "outputPrepend"
    ]
   },
   "outputs": [
    {
     "output_type": "stream",
     "name": "stdout",
     "text": " 7986)\n457 generating index 2739 3653\n(457, 7989)\n458 generating index 2739 3653\n(458, 8044)\n459 generating index 2739 3653\n(459, 8047)\n460 generating index 2739 3653\n(460, 8060)\n461 generating index 2739 3653\n(461, 8077)\n462 generating index 2739 3653\n(462, 8087)\n463 generating index 2739 3653\n(463, 8092)\n464 generating index 2739 3653\n(464, 8110)\n465 generating index 2739 3653\n(465, 8115)\n466 generating index 2739 3653\n(466, 8121)\n467 generating index 2739 3653\n(467, 8127)\n468 generating index 2739 3653\n(468, 8127)\n469 generating index 2739 3653\n(469, 8181)\n470 generating index 2739 3653\n(470, 8188)\n471 generating index 2739 3653\n(471, 8204)\n472 generating index 2739 3653\n(472, 8212)\n473 generating index 2739 3653\n(473, 8216)\n474 generating index 2739 3653\n(474, 8216)\n475 generating index 2739 3653\n(475, 8219)\n476 generating index 2739 3653\n(476, 8235)\n477 generating index 2739 3653\n(477, 8292)\n478 generating index 2739 3653\n(478, 8295)\n479 generating index 2739 3653\n(479, 8304)\n480 generating index 2739 3653\n(480, 8306)\n481 generating index 2739 3653\n(481, 8318)\n482 generating index 2739 3653\n(482, 8318)\n483 generating index 2739 3653\n(483, 8348)\n484 generating index 2739 3653\n(484, 8359)\n485 generating index 2739 3653\n(485, 8388)\n486 generating index 2739 3653\n(486, 8390)\n487 generating index 2739 3653\n(487, 8391)\n488 generating index 2739 3653\n(488, 8397)\n489 generating index 2739 3653\n(489, 8401)\n490 generating index 2739 3653\n(490, 8402)\n491 generating index 2739 3653\n(491, 8410)\n492 generating index 2739 3653\n(492, 8411)\n493 generating index 2739 3653\n(493, 8434)\n494 generating index 2739 3653\n(494, 8436)\n495 generating index 2739 3653\n(495, 8437)\n496 generating index 2739 3653\n(496, 8461)\n497 generating index 2739 3653\n(497, 8464)\n498 generating index 2739 3653\n(498, 8483)\n499 generating index 2739 3653\n(499, 8489)\n500 generating index 2739 3653\n(500, 8490)\n501 generating index 2739 3653\n(501, 8492)\n502 generating index 2739 3653\n(502, 8504)\n503 generating index 2739 3653\n(503, 8505)\n504 generating index 2739 3653\n(504, 8561)\n505 generating index 2739 3653\n(505, 8573)\n506 generating index 2739 3653\n(506, 8578)\n507 generating index 2739 3653\n(507, 8580)\n508 generating index 2739 3653\n(508, 8588)\n509 generating index 2739 3653\n(509, 8597)\n510 generating index 2739 3653\n(510, 8603)\n511 generating index 2739 3653\n(511, 8603)\n512 generating index 2739 3653\n(512, 8620)\n513 generating index 2739 3653\n(513, 8622)\n514 generating index 2739 3653\n(514, 8628)\n515 generating index 2739 3653\n(515, 8634)\n516 generating index 2739 3653\n(516, 8640)\n517 generating index 2739 3653\n(517, 8656)\n518 generating index 2739 3653\n(518, 8661)\n519 generating index 2739 3653\n(519, 8665)\n520 generating index 2739 3653\n(520, 8668)\n521 generating index 2739 3653\n(521, 8668)\n522 generating index 2739 3653\n(522, 8677)\n523 generating index 2739 3653\n(523, 8693)\n524 generating index 2739 3653\n(524, 8700)\n525 generating index 2739 3653\n(525, 8702)\n526 generating index 2739 3653\n(526, 8712)\n527 generating index 2739 3653\n(527, 8717)\n528 generating index 2739 3653\n(528, 8719)\n529 generating index 2739 3653\n(529, 8747)\n530 generating index 2739 3653\n(530, 8749)\n531 generating index 2739 3653\n(531, 8749)\n532 generating index 2739 3653\n(532, 8752)\n533 generating index 2739 3653\n(533, 8761)\n534 generating index 2739 3653\n(534, 8764)\n535 generating index 2739 3653\n(535, 8767)\n536 generating index 2739 3653\n(536, 8770)\n537 generating index 2739 3653\n(537, 8777)\n538 generating index 2739 3653\n(538, 8780)\n539 generating index 2739 3653\n(539, 8801)\n540 generating index 2739 3653\n(540, 8805)\n541 generating index 2739 3653\n(541, 8806)\n542 generating index 2739 3653\n(542, 8813)\n543 generating index 2739 3653\n(543, 8824)\n544 generating index 2739 3653\n(544, 8824)\n545 generating index 2739 3653\n(545, 8825)\n546 generating index 2739 3653\n(546, 8832)\n547 generating index 2739 3653\n(547, 8832)\n548 generating index 2739 3653\n(548, 8847)\n549 generating index 2739 3653\n(549, 8849)\n550 generating index 2739 3653\n(550, 8856)\n551 generating index 2739 3653\n(551, 8858)\n552 generating index 2739 3653\n(552, 8865)\n553 generating index 2739 3653\n(553, 8865)\n554 generating index 2739 3653\n(554, 8866)\n555 generating index 2739 3653\n(555, 8880)\n556 generating index 2739 3653\n(556, 8882)\n557 generating index 2739 3653\n(557, 8883)\n558 generating index 2739 3653\n(558, 8898)\n559 generating index 2739 3653\n(559, 8907)\n560 generating index 2739 3653\n(560, 8908)\n561 generating index 2739 3653\n(561, 8923)\n562 generating index 2739 3653\n(562, 8952)\n563 generating index 2739 3653\n(563, 8959)\n564 generating index 2739 3653\n(564, 8960)\n565 generating index 2739 3653\n(565, 8960)\n566 generating index 2739 3653\n(566, 8991)\n567 generating index 2739 3653\n(567, 9005)\n568 generating index 2739 3653\n(568, 9011)\n569 generating index 2739 3653\n(569, 9021)\n570 generating index 2739 3653\n(570, 9025)\n571 generating index 2739 3653\n(571, 9085)\n572 generating index 2739 3653\n(572, 9096)\n573 generating index 2739 3653\n(573, 9103)\n574 generating index 2739 3653\n(574, 9122)\n575 generating index 2739 3653\n(575, 9123)\n576 generating index 2739 3653\n(576, 9132)\n577 generating index 2739 3653\n(577, 9185)\n578 generating index 2739 3653\n(578, 9187)\n579 generating index 2739 3653\n(579, 9189)\n580 generating index 2739 3653\n(580, 9192)\n581 generating index 2739 3653\n(581, 9194)\n582 generating index 2739 3653\n(582, 9195)\n583 generating index 2739 3653\n(583, 9210)\n584 generating index 2739 3653\n(584, 9211)\n585 generating index 2739 3653\n(585, 9222)\n586 generating index 2739 3653\n(586, 9247)\n587 generating index 2739 3653\n(587, 9309)\n588 generating index 2739 3653\n(588, 9333)\n589 generating index 2739 3653\n(589, 9338)\n590 generating index 2739 3653\n(590, 9340)\n591 generating index 2739 3653\n(591, 9341)\n592 generating index 2739 3653\n(592, 9347)\n593 generating index 2739 3653\n(593, 9348)\n594 generating index 2739 3653\n(594, 9351)\n595 generating index 2739 3653\n(595, 9356)\n596 generating index 2739 3653\n(596, 9361)\n597 generating index 2739 3653\n(597, 9362)\n598 generating index 2739 3653\n(598, 9365)\n599 generating index 2739 3653\n(599, 9365)\n600 generating index 2739 3653\n(600, 9390)\n601 generating index 2739 3653\n(601, 9391)\n602 generating index 2739 3653\n(602, 9399)\n603 generating index 2739 3653\n(603, 9402)\n604 generating index 2739 3653\n(604, 9408)\n605 generating index 2739 3653\n(605, 9413)\n606 generating index 2739 3653\n(606, 9515)\n607 generating index 2739 3653\n(607, 9561)\n608 generating index 2739 3653\n(608, 9567)\n609 generating index 2739 3653\n(609, 9607)\n610 generating index 2739 3653\n(610, 9615)\n611 generating index 2739 3653\n(611, 9616)\n612 generating index 2739 3653\n(612, 9618)\n613 generating index 2739 3653\n(613, 9618)\n614 generating index 2739 3653\n(614, 9923)\n615 generating index 2739 3653\n(615, 9928)\n616 generating index 2739 3653\n(616, 10339)\n617 generating index 2739 3653\n(617, 10349)\n618 generating index 2739 3653\n(618, 10354)\n619 generating index 2739 3653\n(619, 10374)\n620 generating index 2739 3653\n(620, 10376)\n621 generating index 2739 3653\n(621, 10378)\n622 generating index 2739 3653\n(622, 10385)\n623 generating index 2739 3653\n(623, 10448)\n624 generating index 2739 3653\n(624, 10465)\n625 generating index 2739 3653\n(625, 10558)\n626 generating index 2739 3653\n(626, 10564)\n627 generating index 2739 3653\n(627, 10573)\n628 generating index 2739 3653\n(628, 10575)\n629 generating index 2739 3653\n(629, 10590)\n630 generating index 2739 3653\n(630, 10596)\n631 generating index 2739 3653\n(631, 10599)\n632 generating index 2739 3653\n(632, 10599)\n633 generating index 2739 3653\n(633, 10604)\n634 generating index 2739 3653\n(634, 10639)\n635 generating index 2739 3653\n(635, 10640)\n636 generating index 2739 3653\n(636, 10642)\n637 generating index 2739 3653\n(637, 10647)\n638 generating index 2739 3653\n(638, 10658)\n639 generating index 2739 3653\n(639, 10669)\n640 generating index 2739 3653\n(640, 10712)\n641 generating index 2739 3653\n(641, 10732)\n642 generating index 2739 3653\n(642, 10734)\n643 generating index 2739 3653\n(643, 10744)\n644 generating index 2739 3653\n(644, 10748)\n645 generating index 2739 3653\n(645, 10750)\n646 generating index 2739 3653\n(646, 10763)\n647 generating index 2739 3653\n(647, 10764)\n648 generating index 2739 3653\n(648, 10767)\n649 generating index 2739 3653\n(649, 10768)\n650 generating index 2739 3653\n(650, 10791)\n651 generating index 2739 3653\n(651, 10792)\n652 generating index 2739 3653\n(652, 10796)\n653 generating index 2739 3653\n(653, 10799)\n654 generating index 2739 3653\n(654, 10805)\n655 generating index 2739 3653\n(655, 10812)\n656 generating index 2739 3653\n(656, 10817)\n657 generating index 2739 3653\n(657, 10820)\n658 generating index 2739 3653\n(658, 10822)\n659 generating index 2739 3653\n(659, 10856)\n660 generating index 2739 3653\n(660, 10857)\n661 generating index 2739 3653\n(661, 10866)\n662 generating index 2739 3653\n(662, 10868)\n663 generating index 2739 3653\n(663, 10870)\n664 generating index 2739 3653\n(664, 10872)\n665 generating index 2739 3653\n(665, 10879)\n666 generating index 2739 3653\n(666, 11021)\n667 generating index 2739 3653\n(667, 11038)\n668 generating index 2739 3653\n(668, 11048)\n669 generating index 2739 3653\n(669, 11066)\n670 generating index 2739 3653\n(670, 11077)\n671 generating index 2739 3653\n(671, 11117)\n672 generating index 2739 3653\n(672, 11120)\n673 generating index 2739 3653\n(673, 11126)\n674 generating index 2739 3653\n(674, 11137)\n675 generating index 2739 3653\n(675, 11138)\n676 generating index 2739 3653\n(676, 11142)\n677 generating index 2739 3653\n(677, 11149)\n678 generating index 2739 3653\n(678, 11154)\n679 generating index 2739 3653\n(679, 11156)\n680 generating index 2739 3653\n(680, 11160)\n681 generating index 2739 3653\n(681, 11166)\n682 generating index 2739 3653\n(682, 11182)\n683 generating index 2739 3653\n(683, 11184)\n684 generating index 2739 3653\n(684, 11185)\n685 generating index 2739 3653\n(685, 11187)\n686 generating index 2739 3653\n(686, 11193)\n687 generating index 2739 3653\n(687, 11200)\n688 generating index 2739 3653\n(688, 11202)\n689 generating index 2739 3653\n(689, 11203)\n690 generating index 2739 3653\n(690, 11204)\n691 generating index 2739 3653\n(691, 11206)\n692 generating index 2739 3653\n(692, 11209)\n693 generating index 2739 3653\n(693, 11222)\n694 generating index 2739 3653\n(694, 11223)\n695 generating index 2739 3653\n(695, 11259)\n696 generating index 2739 3653\n(696, 11260)\n697 generating index 2739 3653\n(697, 11262)\n698 generating index 2739 3653\n(698, 11269)\n699 generating index 2739 3653\n(699, 11286)\n700 generating index 2739 3653\n(700, 11290)\n701 generating index 2739 3653\n(701, 11423)\n702 generating index 2739 3653\n(702, 11431)\n703 generating index 2739 3653\n(703, 11434)\n704 generating index 2739 3653\n(704, 11446)\n705 generating index 2739 3653\n(705, 11483)\n706 generating index 2739 3653\n(706, 11488)\n707 generating index 2739 3653\n(707, 11495)\n708 generating index 2739 3653\n(708, 11496)\n709 generating index 2739 3653\n(709, 11499)\n710 generating index 2739 3653\n(710, 11508)\n711 generating index 2739 3653\n(711, 11516)\n712 generating index 2739 3653\n(712, 11521)\n713 generating index 2739 3653\n(713, 11540)\n714 generating index 2739 3653\n(714, 11540)\n715 generating index 2739 3653\n(715, 11542)\n716 generating index 2739 3653\n(716, 11543)\n717 generating index 2739 3653\n(717, 11549)\n718 generating index 2739 3653\n(718, 11550)\n719 generating index 2739 3653\n(719, 11564)\n720 generating index 2739 3653\n(720, 11568)\n721 generating index 2739 3653\n(721, 11576)\n722 generating index 2739 3653\n(722, 11608)\n723 generating index 2739 3653\n(723, 11613)\n724 generating index 2739 3653\n(724, 11614)\n725 generating index 2739 3653\n(725, 11617)\n726 generating index 2739 3653\n(726, 11641)\n727 generating index 2739 3653\n(727, 11659)\n728 generating index 2739 3653\n(728, 11670)\n729 generating index 2739 3653\n(729, 11683)\n730 generating index 2739 3653\n(730, 11701)\n731 generating index 2739 3653\n(731, 11705)\n732 generating index 2739 3653\n(732, 11706)\n733 generating index 2739 3653\n(733, 11711)\n734 generating index 2739 3653\n(734, 11712)\n735 generating index 2739 3653\n(735, 11714)\n736 generating index 2739 3653\n(736, 11716)\n737 generating index 2739 3653\n(737, 11717)\n738 generating index 2739 3653\n(738, 11723)\n739 generating index 2739 3653\n(739, 11725)\n740 generating index 2739 3653\n(740, 11731)\n741 generating index 2739 3653\n(741, 11735)\n742 generating index 2739 3653\n(742, 11737)\n743 generating index 2739 3653\n(743, 11740)\n744 generating index 2739 3653\n(744, 11752)\n745 generating index 2739 3653\n(745, 11756)\n746 generating index 2739 3653\n(746, 11759)\n747 generating index 2739 3653\n(747, 11761)\n748 generating index 2739 3653\n(748, 11762)\n749 generating index 2739 3653\n(749, 11779)\n750 generating index 2739 3653\n(750, 11799)\n751 generating index 2739 3653\n(751, 11818)\n752 generating index 2739 3653\n(752, 11819)\n753 generating index 2739 3653\n(753, 11821)\n754 generating index 2739 3653\n(754, 11860)\n755 generating index 2739 3653\n(755, 11862)\n756 generating index 2739 3653\n(756, 11878)\n757 generating index 2739 3653\n(757, 11880)\n758 generating index 2739 3653\n(758, 11880)\n759 generating index 2739 3653\n(759, 11882)\n760 generating index 2739 3653\n(760, 11884)\n761 generating index 2739 3653\n(761, 11889)\n762 generating index 2739 3653\n(762, 11892)\n763 generating index 2739 3653\n(763, 11894)\n764 generating index 2739 3653\n(764, 11897)\n765 generating index 2739 3653\n(765, 11897)\n766 generating index 2739 3653\n(766, 11916)\n767 generating index 2739 3653\n(767, 11923)\n768 generating index 2739 3653\n(768, 11936)\n769 generating index 2739 3653\n(769, 11936)\n770 generating index 2739 3653\n(770, 11945)\n771 generating index 2739 3653\n(771, 11963)\n772 generating index 2739 3653\n(772, 11964)\n773 generating index 2739 3653\n(773, 11970)\n774 generating index 2739 3653\n(774, 11974)\n775 generating index 2739 3653\n(775, 11983)\n776 generating index 2739 3653\n(776, 11984)\n777 generating index 2739 3653\n(777, 11987)\n778 generating index 2739 3653\n(778, 11988)\n779 generating index 2739 3653\n(779, 12009)\n780 generating index 2739 3653\n(780, 12013)\n781 generating index 2739 3653\n(781, 12032)\n782 generating index 2739 3653\n(782, 12070)\n783 generating index 2739 3653\n(783, 12073)\n784 generating index 2739 3653\n(784, 12371)\n785 generating index 2739 3653\n(785, 12372)\n786 generating index 2739 3653\n(786, 12372)\n787 generating index 2739 3653\n(787, 12375)\n788 generating index 2739 3653\n(788, 12375)\n789 generating index 2739 3653\n(789, 12376)\n790 generating index 2739 3653\n(790, 12388)\n791 generating index 2739 3653\n(791, 12405)\n792 generating index 2739 3653\n(792, 12406)\n793 generating index 2739 3653\n(793, 12408)\n794 generating index 2739 3653\n(794, 12410)\n795 generating index 2739 3653\n(795, 12414)\n796 generating index 2739 3653\n(796, 12437)\n797 generating index 2739 3653\n(797, 12439)\n798 generating index 2739 3653\n(798, 12440)\n799 generating index 2739 3653\n(799, 12444)\n800 generating index 2739 3653\n(800, 12445)\n801 generating index 2739 3653\n(801, 12446)\n802 generating index 2739 3653\n(802, 12447)\n803 generating index 2739 3653\n(803, 12459)\n804 generating index 2739 3653\n(804, 12459)\n805 generating index 2739 3653\n(805, 12461)\n806 generating index 2739 3653\n(806, 12463)\n807 generating index 2739 3653\n(807, 12466)\n808 generating index 2739 3653\n(808, 12468)\n809 generating index 2739 3653\n(809, 12470)\n810 generating index 2739 3653\n(810, 12485)\n811 generating index 2739 3653\n(811, 12489)\n812 generating index 2739 3653\n(812, 12491)\n813 generating index 2739 3653\n(813, 12493)\n814 generating index 2739 3653\n(814, 12493)\n815 generating index 2739 3653\n(815, 12498)\n816 generating index 2739 3653\n(816, 12501)\n817 generating index 2739 3653\n(817, 12501)\n818 generating index 2739 3653\n(818, 12503)\n819 generating index 2739 3653\n(819, 12506)\n820 generating index 2739 3653\n(820, 12537)\n821 generating index 2739 3653\n(821, 12538)\n822 generating index 2739 3653\n(822, 12553)\n823 generating index 2739 3653\n(823, 12570)\n824 generating index 2739 3653\n(824, 12584)\n825 generating index 2739 3653\n(825, 12596)\n826 generating index 2739 3653\n(826, 12600)\n827 generating index 2739 3653\n(827, 12607)\n828 generating index 2739 3653\n(828, 12614)\n829 generating index 2739 3653\n(829, 12652)\n830 generating index 2739 3653\n(830, 12669)\n831 generating index 2739 3653\n(831, 12671)\n832 generating index 2739 3653\n(832, 12686)\n833 generating index 2739 3653\n(833, 12705)\n834 generating index 2739 3653\n(834, 12711)\n835 generating index 2739 3653\n(835, 12712)\n836 generating index 2739 3653\n(836, 12716)\n837 generating index 2739 3653\n(837, 12724)\n838 generating index 2739 3653\n(838, 12726)\n839 generating index 2739 3653\n(839, 12726)\n840 generating index 2739 3653\n(840, 12790)\n841 generating index 2739 3653\n(841, 12794)\n842 generating index 2739 3653\n(842, 12807)\n843 generating index 2739 3653\n(843, 12816)\n844 generating index 2739 3653\n(844, 12833)\n845 generating index 2739 3653\n(845, 12886)\n846 generating index 2739 3653\n(846, 12889)\n847 generating index 2739 3653\n(847, 12892)\n848 generating index 2739 3653\n(848, 12894)\n849 generating index 2739 3653\n(849, 12900)\n850 generating index 2739 3653\n(850, 12911)\n851 generating index 2739 3653\n(851, 12913)\n852 generating index 2739 3653\n(852, 12917)\n853 generating index 2739 3653\n(853, 12921)\n854 generating index 2739 3653\n(854, 12934)\n855 generating index 2739 3653\n(855, 12938)\n856 generating index 2739 3653\n(856, 12946)\n857 generating index 2739 3653\n(857, 12951)\n858 generating index 2739 3653\n(858, 12955)\n859 generating index 2739 3653\n(859, 12957)\n860 generating index 2739 3653\n(860, 12959)\n861 generating index 2739 3653\n(861, 12960)\n862 generating index 2739 3653\n(862, 12963)\n863 generating index 2739 3653\n(863, 12963)\n864 generating index 2739 3653\n(864, 12963)\n865 generating index 2739 3653\n(865, 12964)\n866 generating index 2739 3653\n(866, 12978)\n867 generating index 2739 3653\n(867, 12984)\n868 generating index 2739 3653\n(868, 12987)\n869 generating index 2739 3653\n(869, 12995)\n870 generating index 2739 3653\n(870, 13007)\n871 generating index 2739 3653\n(871, 13009)\n872 generating index 2739 3653\n(872, 13014)\n873 generating index 2739 3653\n(873, 13017)\n874 generating index 2739 3653\n(874, 13018)\n875 generating index 2739 3653\n(875, 13018)\n876 generating index 2739 3653\n(876, 13020)\n877 generating index 2739 3653\n(877, 13021)\n878 generating index 2739 3653\n(878, 13022)\n879 generating index 2739 3653\n(879, 13035)\n880 generating index 2739 3653\n(880, 13036)\n881 generating index 2739 3653\n(881, 13037)\n882 generating index 2739 3653\n(882, 13037)\n883 generating index 2739 3653\n(883, 13049)\n884 generating index 2739 3653\n(884, 13062)\n885 generating index 2739 3653\n(885, 13068)\n886 generating index 2739 3653\n(886, 13072)\n887 generating index 2739 3653\n(887, 13079)\n888 generating index 2739 3653\n(888, 13095)\n889 generating index 2739 3653\n(889, 13103)\n890 generating index 2739 3653\n(890, 13119)\n891 generating index 2739 3653\n(891, 13127)\n892 generating index 2739 3653\n(892, 13139)\n893 generating index 2739 3653\n(893, 13149)\n894 generating index 2739 3653\n(894, 13157)\n895 generating index 2739 3653\n(895, 13189)\n896 generating index 2739 3653\n(896, 13191)\n897 generating index 2739 3653\n(897, 13192)\n898 generating index 2739 3653\n(898, 13194)\n899 generating index 2739 3653\n(899, 13197)\n900 generating index 2739 3653\n(900, 13203)\n901 generating index 2739 3653\n(901, 13205)\n902 generating index 2739 3653\n(902, 13226)\n903 generating index 2739 3653\n(903, 13229)\n904 generating index 2739 3653\n(904, 13230)\n905 generating index 2739 3653\n(905, 13253)\n906 generating index 2739 3653\n(906, 13265)\n907 generating index 2739 3653\n(907, 13266)\n908 generating index 2739 3653\n(908, 13273)\n909 generating index 2739 3653\n(909, 13279)\n910 generating index 2739 3653\n(910, 13282)\n911 generating index 2739 3653\n(911, 13282)\n912 generating index 2739 3653\n(912, 13314)\n913 generating index 2739 3653\n(913, 13315)\n914 generating index 2739 3653\n(914, 13316)\n"
    }
   ],
   "source": [
    "# separating wikiarticles_list into 4\n",
    "index1 = len(wikiarticles_list)//4 * 1\n",
    "index2 = len(wikiarticles_list)//4 * 2\n",
    "index3 = len(wikiarticles_list)//4 * 3\n",
    "\n",
    "nlp_1 = generate_subdf(0, index1)\n",
    "nlp_2 = generate_subdf(index1, index2)\n",
    "nlp_3 = generate_subdf(index2, index3)\n",
    "nlp_4 = generate_subdf(index3, len(wikiarticles_list))"
   ]
  },
  {
   "cell_type": "code",
   "execution_count": 56,
   "metadata": {},
   "outputs": [],
   "source": [
    "wiki_nlp = pd.concat([nlp_1, nlp_2, nlp_3, nlp_4], sort=False, ignore_index=True)"
   ]
  },
  {
   "cell_type": "code",
   "execution_count": 58,
   "metadata": {},
   "outputs": [],
   "source": [
    "wiki_nlp.to_csv(r'wiki_nlp.csv')"
   ]
  }
 ]
}