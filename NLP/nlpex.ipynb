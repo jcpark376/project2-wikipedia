{
 "metadata": {
  "language_info": {
   "codemirror_mode": {
    "name": "ipython",
    "version": 3
   },
   "file_extension": ".py",
   "mimetype": "text/x-python",
   "name": "python",
   "nbconvert_exporter": "python",
   "pygments_lexer": "ipython3",
   "version": "3.8.3-final"
  },
  "orig_nbformat": 2,
  "kernelspec": {
   "name": "Python 3.8.3 64-bit ('base': conda)",
   "display_name": "Python 3.8.3 64-bit ('base': conda)",
   "metadata": {
    "interpreter": {
     "hash": "a37621db6f99f75e4d2a47a248a6a71709dd01999a0a2eb01144ce85e79d4af1"
    }
   }
  }
 },
 "nbformat": 4,
 "nbformat_minor": 2,
 "cells": [
  {
   "cell_type": "code",
   "execution_count": 72,
   "metadata": {
    "tags": []
   },
   "outputs": [],
   "source": [
    "import pandas as pd\n",
    "from os import listdir\n",
    "from os.path import isfile, join\n",
    "from bs4 import BeautifulSoup\n",
    "import requests\n",
    "import string\n",
    "\n",
    "from collections import defaultdict\n",
    "\n",
    "import nltk\n",
    "from nltk.corpus import stopwords\n",
    "from nltk.tokenize import word_tokenize"
   ]
  },
  {
   "cell_type": "code",
   "execution_count": 78,
   "metadata": {},
   "outputs": [],
   "source": [
    "# Extract \"Article Name\" from all \"Article Name.html\" for a list of article names\n",
    "file_names = [name[:-5] for name in listdir('../wikiarticles30') if isfile(join('../wikiarticles30', name))]\n",
    "try: file_names.remove(\".DS_\")\n",
    "except: pass\n",
    "wikiarticles30_list = file_names\n",
    "# turn list into df\n",
    "# wikiarticles30 = pd.DataFrame(file_names,columns=['article_name'])\n",
    "# wikiarticles = wikiarticles.set_index('article_name') #set article name as index"
   ]
  },
  {
   "cell_type": "code",
   "execution_count": 79,
   "metadata": {
    "tags": []
   },
   "outputs": [],
   "source": [
    "def createrow(article):\n",
    "    '''\n",
    "    Finds the html file with the title 'article'\n",
    "    Then tokenizes and cleans up body of article to return bag of words\n",
    "    Input: name of the article\n",
    "    Output: single pandas row with bag of words\n",
    "    '''\n",
    "    filename = \"../wikiarticles30/\" + article + \".html\"\n",
    "    html_handle = open(filename)\n",
    "    html_text = html_handle.read()\n",
    "    soup = BeautifulSoup(html_text, 'lxml')\n",
    "\n",
    "    #delete all tables within article (adds noise)\n",
    "    for table in soup.find_all('table', {\"id\":\"mw-content-text\"}):\n",
    "        table.decompose()\n",
    "\n",
    "    #flatten html and extract text from body\n",
    "    body_text = soup.find(\"div\", {\"id\":\"mw-content-text\"}).text \n",
    "    body_lower = body_text.lower()\n",
    "\n",
    "    #tokenize\n",
    "    bag_raw = word_tokenize(body_lower)\n",
    "\n",
    "    # remove english stopwords, punctuation, numbers, and single letters\n",
    "    stop = stopwords.words('english')\n",
    "    bag_alpha = [w for w in bag_raw if w.isalpha()]\n",
    "    bag_no_stop = [w for w in bag_alpha if not w in stop]\n",
    "    bag_clean = [w for w in bag_no_stop if len(w) > 2]\n",
    "\n",
    "    # make dict with freq\n",
    "    wordfreq = defaultdict(int)\n",
    "    for word in bag_clean:\n",
    "        wordfreq[word] += 1\n",
    "    freq = pd.DataFrame.from_dict(wordfreq, orient='index')\n",
    "    freq.drop(freq[freq[0] < 3].index, inplace = True) \n",
    "    freq = freq.transpose()\n",
    "    freq.insert(0,'this_article_unique_name', article)\n",
    "\n",
    "    return freq"
   ]
  },
  {
   "cell_type": "code",
   "execution_count": 100,
   "metadata": {
    "tags": []
   },
   "outputs": [
    {
     "output_type": "execute_result",
     "data": {
      "text/plain": "                             this_article_unique_name  article  multiple  \\\n0   Albumin transport function analysis by EPR spe...      4.0       8.0   \n1                                     Akito Tachibana      0.0       0.0   \n2                                          Alan Longo      0.0       0.0   \n3                                      Akiva Librecht      3.0       0.0   \n4                                    Albano Cathedral      0.0       0.0   \n5                                      Akiaga Station      3.0       0.0   \n6                                             Akletos      0.0       0.0   \n7                                 Al-Arabi (magazine)      7.0       0.0   \n8                              Aksel Berget Skjølsvik      0.0       0.0   \n9                                             Albanyà      0.0       0.0   \n10                                 Albert Laponneraye      0.0       0.0   \n11                                  Alain Desrosières      3.0       0.0   \n12                                    Alby Duckmanton      0.0       0.0   \n13                            Alcohol septal ablation      0.0       0.0   \n14                                  Al Madan District      0.0       0.0   \n15                                        Al Zarka SC      3.0       0.0   \n16                                        Alara block      0.0       0.0   \n17              Albert Freeman (cricketer, born 1844)      0.0       0.0   \n18                               Alasdair Óg of Islay      0.0       0.0   \n\n    please  improve  learn  remove  template  references  message  ...  \\\n0      4.0      3.0    4.0     4.0       4.0         3.0      3.0  ...   \n1      0.0      0.0    0.0     0.0       0.0         0.0      0.0  ...   \n2      0.0      0.0    0.0     0.0       0.0         0.0      0.0  ...   \n3      0.0      0.0    0.0     0.0       0.0         0.0      0.0  ...   \n4      0.0      0.0    0.0     0.0       0.0         0.0      0.0  ...   \n5      0.0      0.0    0.0     0.0       0.0         0.0      0.0  ...   \n6      0.0      0.0    0.0     0.0       0.0         0.0      0.0  ...   \n7      0.0      0.0    0.0     0.0       0.0         3.0      0.0  ...   \n8      0.0      0.0    0.0     0.0       0.0         0.0      0.0  ...   \n9      0.0      0.0    0.0     0.0       0.0         0.0      0.0  ...   \n10     0.0      0.0    0.0     0.0       0.0         0.0      0.0  ...   \n11     0.0      0.0    0.0     0.0       0.0         0.0      0.0  ...   \n12     0.0      0.0    0.0     0.0       0.0         0.0      0.0  ...   \n13     0.0      0.0    0.0     0.0       0.0         0.0      0.0  ...   \n14     0.0      0.0    0.0     0.0       0.0         0.0      0.0  ...   \n15     0.0      0.0    0.0     0.0       0.0         0.0      0.0  ...   \n16     0.0      0.0    0.0     0.0       0.0         0.0      0.0  ...   \n17     0.0      0.0    0.0     0.0       0.0         0.0      0.0  ...   \n18     0.0      0.0    0.0     0.0       0.0         0.0      0.0  ...   \n\n    individual  person  cultural  european  change  celtic  brimscombe  port  \\\n0          0.0     0.0       0.0       0.0     0.0     0.0         0.0   0.0   \n1          0.0     0.0       0.0       0.0     0.0     0.0         0.0   0.0   \n2          0.0     0.0       0.0       0.0     0.0     0.0         0.0   0.0   \n3          0.0     0.0       0.0       0.0     0.0     0.0         0.0   0.0   \n4          0.0     0.0       0.0       0.0     0.0     0.0         0.0   0.0   \n5          0.0     0.0       0.0       0.0     0.0     0.0         0.0   0.0   \n6          0.0     0.0       0.0       0.0     0.0     0.0         0.0   0.0   \n7          0.0     0.0       0.0       0.0     0.0     0.0         0.0   0.0   \n8          0.0     0.0       0.0       0.0     0.0     0.0         0.0   0.0   \n9          0.0     0.0       0.0       0.0     0.0     0.0         0.0   0.0   \n10         0.0     0.0       0.0       0.0     0.0     0.0         0.0   0.0   \n11         0.0     0.0       0.0       0.0     0.0     0.0         0.0   0.0   \n12         0.0     0.0       0.0       0.0     0.0     0.0         0.0   0.0   \n13         0.0     0.0       0.0       0.0     0.0     0.0         0.0   0.0   \n14         0.0     0.0       0.0       0.0     0.0     0.0         0.0   0.0   \n15         0.0     0.0       0.0       0.0     0.0     0.0         0.0   0.0   \n16         0.0     0.0       0.0       0.0     0.0     0.0         0.0   0.0   \n17         0.0     0.0       0.0       0.0     0.0     0.0         0.0   0.0   \n18         4.0     4.0       3.0       3.0     3.0     4.0         3.0   3.0   \n\n    macdougall  wdh  \n0          0.0  0.0  \n1          0.0  0.0  \n2          0.0  0.0  \n3          0.0  0.0  \n4          0.0  0.0  \n5          0.0  0.0  \n6          0.0  0.0  \n7          0.0  0.0  \n8          0.0  0.0  \n9          0.0  0.0  \n10         0.0  0.0  \n11         0.0  0.0  \n12         0.0  0.0  \n13         0.0  0.0  \n14         0.0  0.0  \n15         0.0  0.0  \n16         0.0  0.0  \n17         0.0  0.0  \n18         3.0  6.0  \n\n[19 rows x 1005 columns]",
      "text/html": "<div>\n<style scoped>\n    .dataframe tbody tr th:only-of-type {\n        vertical-align: middle;\n    }\n\n    .dataframe tbody tr th {\n        vertical-align: top;\n    }\n\n    .dataframe thead th {\n        text-align: right;\n    }\n</style>\n<table border=\"1\" class=\"dataframe\">\n  <thead>\n    <tr style=\"text-align: right;\">\n      <th></th>\n      <th>this_article_unique_name</th>\n      <th>article</th>\n      <th>multiple</th>\n      <th>please</th>\n      <th>improve</th>\n      <th>learn</th>\n      <th>remove</th>\n      <th>template</th>\n      <th>references</th>\n      <th>message</th>\n      <th>...</th>\n      <th>individual</th>\n      <th>person</th>\n      <th>cultural</th>\n      <th>european</th>\n      <th>change</th>\n      <th>celtic</th>\n      <th>brimscombe</th>\n      <th>port</th>\n      <th>macdougall</th>\n      <th>wdh</th>\n    </tr>\n  </thead>\n  <tbody>\n    <tr>\n      <th>0</th>\n      <td>Albumin transport function analysis by EPR spe...</td>\n      <td>4.0</td>\n      <td>8.0</td>\n      <td>4.0</td>\n      <td>3.0</td>\n      <td>4.0</td>\n      <td>4.0</td>\n      <td>4.0</td>\n      <td>3.0</td>\n      <td>3.0</td>\n      <td>...</td>\n      <td>0.0</td>\n      <td>0.0</td>\n      <td>0.0</td>\n      <td>0.0</td>\n      <td>0.0</td>\n      <td>0.0</td>\n      <td>0.0</td>\n      <td>0.0</td>\n      <td>0.0</td>\n      <td>0.0</td>\n    </tr>\n    <tr>\n      <th>1</th>\n      <td>Akito Tachibana</td>\n      <td>0.0</td>\n      <td>0.0</td>\n      <td>0.0</td>\n      <td>0.0</td>\n      <td>0.0</td>\n      <td>0.0</td>\n      <td>0.0</td>\n      <td>0.0</td>\n      <td>0.0</td>\n      <td>...</td>\n      <td>0.0</td>\n      <td>0.0</td>\n      <td>0.0</td>\n      <td>0.0</td>\n      <td>0.0</td>\n      <td>0.0</td>\n      <td>0.0</td>\n      <td>0.0</td>\n      <td>0.0</td>\n      <td>0.0</td>\n    </tr>\n    <tr>\n      <th>2</th>\n      <td>Alan Longo</td>\n      <td>0.0</td>\n      <td>0.0</td>\n      <td>0.0</td>\n      <td>0.0</td>\n      <td>0.0</td>\n      <td>0.0</td>\n      <td>0.0</td>\n      <td>0.0</td>\n      <td>0.0</td>\n      <td>...</td>\n      <td>0.0</td>\n      <td>0.0</td>\n      <td>0.0</td>\n      <td>0.0</td>\n      <td>0.0</td>\n      <td>0.0</td>\n      <td>0.0</td>\n      <td>0.0</td>\n      <td>0.0</td>\n      <td>0.0</td>\n    </tr>\n    <tr>\n      <th>3</th>\n      <td>Akiva Librecht</td>\n      <td>3.0</td>\n      <td>0.0</td>\n      <td>0.0</td>\n      <td>0.0</td>\n      <td>0.0</td>\n      <td>0.0</td>\n      <td>0.0</td>\n      <td>0.0</td>\n      <td>0.0</td>\n      <td>...</td>\n      <td>0.0</td>\n      <td>0.0</td>\n      <td>0.0</td>\n      <td>0.0</td>\n      <td>0.0</td>\n      <td>0.0</td>\n      <td>0.0</td>\n      <td>0.0</td>\n      <td>0.0</td>\n      <td>0.0</td>\n    </tr>\n    <tr>\n      <th>4</th>\n      <td>Albano Cathedral</td>\n      <td>0.0</td>\n      <td>0.0</td>\n      <td>0.0</td>\n      <td>0.0</td>\n      <td>0.0</td>\n      <td>0.0</td>\n      <td>0.0</td>\n      <td>0.0</td>\n      <td>0.0</td>\n      <td>...</td>\n      <td>0.0</td>\n      <td>0.0</td>\n      <td>0.0</td>\n      <td>0.0</td>\n      <td>0.0</td>\n      <td>0.0</td>\n      <td>0.0</td>\n      <td>0.0</td>\n      <td>0.0</td>\n      <td>0.0</td>\n    </tr>\n    <tr>\n      <th>5</th>\n      <td>Akiaga Station</td>\n      <td>3.0</td>\n      <td>0.0</td>\n      <td>0.0</td>\n      <td>0.0</td>\n      <td>0.0</td>\n      <td>0.0</td>\n      <td>0.0</td>\n      <td>0.0</td>\n      <td>0.0</td>\n      <td>...</td>\n      <td>0.0</td>\n      <td>0.0</td>\n      <td>0.0</td>\n      <td>0.0</td>\n      <td>0.0</td>\n      <td>0.0</td>\n      <td>0.0</td>\n      <td>0.0</td>\n      <td>0.0</td>\n      <td>0.0</td>\n    </tr>\n    <tr>\n      <th>6</th>\n      <td>Akletos</td>\n      <td>0.0</td>\n      <td>0.0</td>\n      <td>0.0</td>\n      <td>0.0</td>\n      <td>0.0</td>\n      <td>0.0</td>\n      <td>0.0</td>\n      <td>0.0</td>\n      <td>0.0</td>\n      <td>...</td>\n      <td>0.0</td>\n      <td>0.0</td>\n      <td>0.0</td>\n      <td>0.0</td>\n      <td>0.0</td>\n      <td>0.0</td>\n      <td>0.0</td>\n      <td>0.0</td>\n      <td>0.0</td>\n      <td>0.0</td>\n    </tr>\n    <tr>\n      <th>7</th>\n      <td>Al-Arabi (magazine)</td>\n      <td>7.0</td>\n      <td>0.0</td>\n      <td>0.0</td>\n      <td>0.0</td>\n      <td>0.0</td>\n      <td>0.0</td>\n      <td>0.0</td>\n      <td>3.0</td>\n      <td>0.0</td>\n      <td>...</td>\n      <td>0.0</td>\n      <td>0.0</td>\n      <td>0.0</td>\n      <td>0.0</td>\n      <td>0.0</td>\n      <td>0.0</td>\n      <td>0.0</td>\n      <td>0.0</td>\n      <td>0.0</td>\n      <td>0.0</td>\n    </tr>\n    <tr>\n      <th>8</th>\n      <td>Aksel Berget Skjølsvik</td>\n      <td>0.0</td>\n      <td>0.0</td>\n      <td>0.0</td>\n      <td>0.0</td>\n      <td>0.0</td>\n      <td>0.0</td>\n      <td>0.0</td>\n      <td>0.0</td>\n      <td>0.0</td>\n      <td>...</td>\n      <td>0.0</td>\n      <td>0.0</td>\n      <td>0.0</td>\n      <td>0.0</td>\n      <td>0.0</td>\n      <td>0.0</td>\n      <td>0.0</td>\n      <td>0.0</td>\n      <td>0.0</td>\n      <td>0.0</td>\n    </tr>\n    <tr>\n      <th>9</th>\n      <td>Albanyà</td>\n      <td>0.0</td>\n      <td>0.0</td>\n      <td>0.0</td>\n      <td>0.0</td>\n      <td>0.0</td>\n      <td>0.0</td>\n      <td>0.0</td>\n      <td>0.0</td>\n      <td>0.0</td>\n      <td>...</td>\n      <td>0.0</td>\n      <td>0.0</td>\n      <td>0.0</td>\n      <td>0.0</td>\n      <td>0.0</td>\n      <td>0.0</td>\n      <td>0.0</td>\n      <td>0.0</td>\n      <td>0.0</td>\n      <td>0.0</td>\n    </tr>\n    <tr>\n      <th>10</th>\n      <td>Albert Laponneraye</td>\n      <td>0.0</td>\n      <td>0.0</td>\n      <td>0.0</td>\n      <td>0.0</td>\n      <td>0.0</td>\n      <td>0.0</td>\n      <td>0.0</td>\n      <td>0.0</td>\n      <td>0.0</td>\n      <td>...</td>\n      <td>0.0</td>\n      <td>0.0</td>\n      <td>0.0</td>\n      <td>0.0</td>\n      <td>0.0</td>\n      <td>0.0</td>\n      <td>0.0</td>\n      <td>0.0</td>\n      <td>0.0</td>\n      <td>0.0</td>\n    </tr>\n    <tr>\n      <th>11</th>\n      <td>Alain Desrosières</td>\n      <td>3.0</td>\n      <td>0.0</td>\n      <td>0.0</td>\n      <td>0.0</td>\n      <td>0.0</td>\n      <td>0.0</td>\n      <td>0.0</td>\n      <td>0.0</td>\n      <td>0.0</td>\n      <td>...</td>\n      <td>0.0</td>\n      <td>0.0</td>\n      <td>0.0</td>\n      <td>0.0</td>\n      <td>0.0</td>\n      <td>0.0</td>\n      <td>0.0</td>\n      <td>0.0</td>\n      <td>0.0</td>\n      <td>0.0</td>\n    </tr>\n    <tr>\n      <th>12</th>\n      <td>Alby Duckmanton</td>\n      <td>0.0</td>\n      <td>0.0</td>\n      <td>0.0</td>\n      <td>0.0</td>\n      <td>0.0</td>\n      <td>0.0</td>\n      <td>0.0</td>\n      <td>0.0</td>\n      <td>0.0</td>\n      <td>...</td>\n      <td>0.0</td>\n      <td>0.0</td>\n      <td>0.0</td>\n      <td>0.0</td>\n      <td>0.0</td>\n      <td>0.0</td>\n      <td>0.0</td>\n      <td>0.0</td>\n      <td>0.0</td>\n      <td>0.0</td>\n    </tr>\n    <tr>\n      <th>13</th>\n      <td>Alcohol septal ablation</td>\n      <td>0.0</td>\n      <td>0.0</td>\n      <td>0.0</td>\n      <td>0.0</td>\n      <td>0.0</td>\n      <td>0.0</td>\n      <td>0.0</td>\n      <td>0.0</td>\n      <td>0.0</td>\n      <td>...</td>\n      <td>0.0</td>\n      <td>0.0</td>\n      <td>0.0</td>\n      <td>0.0</td>\n      <td>0.0</td>\n      <td>0.0</td>\n      <td>0.0</td>\n      <td>0.0</td>\n      <td>0.0</td>\n      <td>0.0</td>\n    </tr>\n    <tr>\n      <th>14</th>\n      <td>Al Madan District</td>\n      <td>0.0</td>\n      <td>0.0</td>\n      <td>0.0</td>\n      <td>0.0</td>\n      <td>0.0</td>\n      <td>0.0</td>\n      <td>0.0</td>\n      <td>0.0</td>\n      <td>0.0</td>\n      <td>...</td>\n      <td>0.0</td>\n      <td>0.0</td>\n      <td>0.0</td>\n      <td>0.0</td>\n      <td>0.0</td>\n      <td>0.0</td>\n      <td>0.0</td>\n      <td>0.0</td>\n      <td>0.0</td>\n      <td>0.0</td>\n    </tr>\n    <tr>\n      <th>15</th>\n      <td>Al Zarka SC</td>\n      <td>3.0</td>\n      <td>0.0</td>\n      <td>0.0</td>\n      <td>0.0</td>\n      <td>0.0</td>\n      <td>0.0</td>\n      <td>0.0</td>\n      <td>0.0</td>\n      <td>0.0</td>\n      <td>...</td>\n      <td>0.0</td>\n      <td>0.0</td>\n      <td>0.0</td>\n      <td>0.0</td>\n      <td>0.0</td>\n      <td>0.0</td>\n      <td>0.0</td>\n      <td>0.0</td>\n      <td>0.0</td>\n      <td>0.0</td>\n    </tr>\n    <tr>\n      <th>16</th>\n      <td>Alara block</td>\n      <td>0.0</td>\n      <td>0.0</td>\n      <td>0.0</td>\n      <td>0.0</td>\n      <td>0.0</td>\n      <td>0.0</td>\n      <td>0.0</td>\n      <td>0.0</td>\n      <td>0.0</td>\n      <td>...</td>\n      <td>0.0</td>\n      <td>0.0</td>\n      <td>0.0</td>\n      <td>0.0</td>\n      <td>0.0</td>\n      <td>0.0</td>\n      <td>0.0</td>\n      <td>0.0</td>\n      <td>0.0</td>\n      <td>0.0</td>\n    </tr>\n    <tr>\n      <th>17</th>\n      <td>Albert Freeman (cricketer, born 1844)</td>\n      <td>0.0</td>\n      <td>0.0</td>\n      <td>0.0</td>\n      <td>0.0</td>\n      <td>0.0</td>\n      <td>0.0</td>\n      <td>0.0</td>\n      <td>0.0</td>\n      <td>0.0</td>\n      <td>...</td>\n      <td>0.0</td>\n      <td>0.0</td>\n      <td>0.0</td>\n      <td>0.0</td>\n      <td>0.0</td>\n      <td>0.0</td>\n      <td>0.0</td>\n      <td>0.0</td>\n      <td>0.0</td>\n      <td>0.0</td>\n    </tr>\n    <tr>\n      <th>18</th>\n      <td>Alasdair Óg of Islay</td>\n      <td>0.0</td>\n      <td>0.0</td>\n      <td>0.0</td>\n      <td>0.0</td>\n      <td>0.0</td>\n      <td>0.0</td>\n      <td>0.0</td>\n      <td>0.0</td>\n      <td>0.0</td>\n      <td>...</td>\n      <td>4.0</td>\n      <td>4.0</td>\n      <td>3.0</td>\n      <td>3.0</td>\n      <td>3.0</td>\n      <td>4.0</td>\n      <td>3.0</td>\n      <td>3.0</td>\n      <td>3.0</td>\n      <td>6.0</td>\n    </tr>\n  </tbody>\n</table>\n<p>19 rows × 1005 columns</p>\n</div>"
     },
     "metadata": {},
     "execution_count": 100
    }
   ],
   "source": [
    "wiki_nlp = pd.DataFrame(columns=['this_article_unique_name']) #init empty df\n",
    "for article in wikiarticles30_list:\n",
    "    newrow = createrow(article)\n",
    "    wiki_nlp = pd.concat([newrow, wiki_nlp], sort=False, ignore_index=True)\n",
    "wiki_nlp.fillna(0)"
   ]
  },
  {
   "cell_type": "code",
   "execution_count": null,
   "metadata": {},
   "outputs": [],
   "source": []
  }
 ]
}